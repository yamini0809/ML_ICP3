{
  "nbformat": 4,
  "nbformat_minor": 0,
  "metadata": {
    "colab": {
      "provenance": [],
      "authorship_tag": "ABX9TyMyy+nRczhCIPiRvQEMMsY8",
      "include_colab_link": true
    },
    "kernelspec": {
      "name": "python3",
      "display_name": "Python 3"
    },
    "language_info": {
      "name": "python"
    }
  },
  "cells": [
    {
      "cell_type": "markdown",
      "metadata": {
        "id": "view-in-github",
        "colab_type": "text"
      },
      "source": [
        "<a href=\"https://colab.research.google.com/github/yamini0809/ML_ICP3/blob/main/ICP3.ipynb\" target=\"_parent\"><img src=\"https://colab.research.google.com/assets/colab-badge.svg\" alt=\"Open In Colab\"/></a>"
      ]
    },
    {
      "cell_type": "markdown",
      "source": [
        "Q1: a) Using NumPy create random vector of size 15 having only Integers in the range 1-20. 1. Reshape the array to 3 by 5 2. Print array shape. 3. Replace the maxin each row by 0\n"
      ],
      "metadata": {
        "id": "EfG20YMp8i9W"
      }
    },
    {
      "cell_type": "code",
      "source": [
        "import numpy as np\n",
        "# Generate an array of 15 random integers between 1 and 20\n",
        "a= np.random.randint(low=1, high=21, size=15)\n",
        "# Reshape the array into a 3x5 matrix\n",
        "a= a.reshape(3, 5)\n",
        "print(\"Array shape:\", a.shape)\n",
        "# Set the maximum value in each row to 0\n",
        "# `a.argmax(axis=1)` finds the indices of the maximum values along each row\n",
        "# `np.arange(a.shape[0])` creates an array of indices [0, 1, 2] corresponding to each row\n",
        "# `a[a.argmax(axis=1), np.arange(a.shape[0])] = 0` sets the maximum values to 0 using advanced indexing\n",
        "a[a.argmax(axis=1), np.arange(a.shape[0])] = 0\n",
        "print(a)"
      ],
      "metadata": {
        "colab": {
          "base_uri": "https://localhost:8080/"
        },
        "id": "Aa-whMw5EoTo",
        "outputId": "e47d0157-44b3-43ae-ccef-d5c2f8681bd6"
      },
      "execution_count": 12,
      "outputs": [
        {
          "output_type": "stream",
          "name": "stdout",
          "text": [
            "Array shape: (3, 5)\n",
            "[[16 20 12  5 20]\n",
            " [ 0  0 11 11  8]\n",
            " [18 16  0  8 16]]\n"
          ]
        }
      ]
    },
    {
      "cell_type": "markdown",
      "source": [
        "Create a 2-dimensional array of size 4 x 3 (composed of 4-byte integer elements), also print the shape, type and data type of the array\n"
      ],
      "metadata": {
        "id": "GhASox6x973q"
      }
    },
    {
      "cell_type": "code",
      "source": [
        "import numpy as np\n",
        "# Create a 2D array (4x3) with specified integers\n",
        "b = np.array([[1, 2, 3], [4, 5, 6], [7, 8, 9], [10, 11, 12]], dtype=np.int32)\n",
        "#Print the type,shape and datatype of the array\n",
        "print(\"Array shape:\", b.shape)\n",
        "print(\"Array type:\", type(b))\n",
        "print(\"Array data type:\", b.dtype)\n",
        "print(b)"
      ],
      "metadata": {
        "colab": {
          "base_uri": "https://localhost:8080/"
        },
        "id": "ZBAYI_PW9r4a",
        "outputId": "a7704851-5cd1-42aa-cc49-d34897426f39"
      },
      "execution_count": 3,
      "outputs": [
        {
          "output_type": "stream",
          "name": "stdout",
          "text": [
            "Array shape: (4, 3)\n",
            "Array type: <class 'numpy.ndarray'>\n",
            "Array data type: int32\n",
            "[[ 1  2  3]\n",
            " [ 4  5  6]\n",
            " [ 7  8  9]\n",
            " [10 11 12]]\n"
          ]
        }
      ]
    },
    {
      "cell_type": "markdown",
      "source": [
        "b). Write a program to compute the eigenvalues and right eigenvectors of a given square array given below: [[ 3 -2] [ 1 0]]"
      ],
      "metadata": {
        "id": "K_hxvD6O-MyJ"
      }
    },
    {
      "cell_type": "code",
      "source": [
        "import numpy as np\n",
        "# Create a 2x2 matrix\n",
        "c = np.array([[3, -2], [1, 0]])\n",
        "# Compute the eigenvalues and right eigenvectors of the matrix\n",
        "eigenvalues, eigenvectors = np.linalg.eig(c)\n",
        "print(\"Eigenvalues\", eigenvalues)\n",
        "print(\"Right eigenvectors:\")\n",
        "print(eigenvectors)"
      ],
      "metadata": {
        "colab": {
          "base_uri": "https://localhost:8080/"
        },
        "id": "C0Jljd5g-Nw3",
        "outputId": "5b7fe1f9-c75c-4e9b-d059-e0be0b063473"
      },
      "execution_count": 4,
      "outputs": [
        {
          "output_type": "stream",
          "name": "stdout",
          "text": [
            "Eigenvalues [2. 1.]\n",
            "Right eigenvectors:\n",
            "[[0.89442719 0.70710678]\n",
            " [0.4472136  0.70710678]]\n"
          ]
        }
      ]
    },
    {
      "cell_type": "markdown",
      "source": [
        "c). Compute the sum of the diagonal element of a given array. [[0 1 2] [3 4 5]]"
      ],
      "metadata": {
        "id": "ZuZ8e8ug-g_o"
      }
    },
    {
      "cell_type": "code",
      "source": [
        "import numpy as np\n",
        "d= np.array([[0, 1, 2], [3, 4, 5]])\n",
        "# Compute the sum of the diagonal elements (trace) of the matrix\n",
        "sum= np.trace(d)\n",
        "print(\"Sum of diagonal elements/TRace:\", sum)"
      ],
      "metadata": {
        "colab": {
          "base_uri": "https://localhost:8080/"
        },
        "id": "T425Q15f-i5T",
        "outputId": "958e3d23-28bc-493f-8df6-bba7a4d7a302"
      },
      "execution_count": 5,
      "outputs": [
        {
          "output_type": "stream",
          "name": "stdout",
          "text": [
            "Sum of diagonal elements/TRace: 4\n"
          ]
        }
      ]
    },
    {
      "cell_type": "markdown",
      "source": [
        "d). Write a NumPy program to create a new shape to an array without changing its data."
      ],
      "metadata": {
        "id": "hPNwOBnX-vtD"
      }
    },
    {
      "cell_type": "code",
      "source": [
        "#Reshape 3x2: [[1 2] [3 4] [5 6]]\n",
        "import numpy as np\n",
        "e= np.array([[1, 2], [3, 4], [5, 6]])\n",
        "# Reshape the matrix to a 2x3 matrix\n",
        "f= e.reshape((2, 3))\n",
        "# Print the original array\n",
        "print(\"Original array:\\n\", e)\n",
        "# Print the reshaped array\n",
        "print(\"Reshaped array:\\n\", f)"
      ],
      "metadata": {
        "colab": {
          "base_uri": "https://localhost:8080/"
        },
        "id": "MjKS1R2W-gaw",
        "outputId": "49ceed0b-3f24-4b00-8b2d-8e01cdf8ad5c"
      },
      "execution_count": 6,
      "outputs": [
        {
          "output_type": "stream",
          "name": "stdout",
          "text": [
            "Original array:\n",
            " [[1 2]\n",
            " [3 4]\n",
            " [5 6]]\n",
            "Reshaped array:\n",
            " [[1 2 3]\n",
            " [4 5 6]]\n"
          ]
        }
      ]
    },
    {
      "cell_type": "code",
      "source": [
        "#Reshape 2x3: [[1 2 3] [4 5 6]\n",
        "import numpy as np\n",
        "g = np.array([[1, 2, 3], [4, 5, 6]])\n",
        "# Reshape the matrix to a 3x2 matrix\n",
        "h= g.reshape((3, 2))\n",
        "# Print the original array\n",
        "print(\"Original array:\\n\", g)\n",
        "# Print the reshaped array\n",
        "print(\"Reshaped array:\\n\", h)"
      ],
      "metadata": {
        "colab": {
          "base_uri": "https://localhost:8080/"
        },
        "id": "OskRQoKz-fYq",
        "outputId": "f50e6569-6309-483e-cecf-a0fad5577a31"
      },
      "execution_count": 7,
      "outputs": [
        {
          "output_type": "stream",
          "name": "stdout",
          "text": [
            "Original array:\n",
            " [[1 2 3]\n",
            " [4 5 6]]\n",
            "Reshaped array:\n",
            " [[1 2]\n",
            " [3 4]\n",
            " [5 6]]\n"
          ]
        }
      ]
    }
  ]
}